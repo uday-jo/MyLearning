{
 "cells": [
  {
   "cell_type": "markdown",
   "metadata": {},
   "source": [
    "<center>\n",
    "    <img src=\"https://s3-api.us-geo.objectstorage.softlayer.net/cf-courses-data/CognitiveClass/Logos/organization_logo/organization_logo.png\" width=\"300\" alt=\"cognitiveclass.ai logo\"  />\n",
    "</center>\n"
   ]
  },
  {
   "cell_type": "markdown",
   "metadata": {},
   "source": [
    "#### Add your code below following the instructions given in the course\n"
   ]
  },
  {
   "cell_type": "markdown",
   "metadata": {},
   "source": [
    "# My Jupiter Notebook on Watson Studio"
   ]
  },
  {
   "cell_type": "markdown",
   "metadata": {},
   "source": [
    "## __Venkata Uday Jonnalagadda__\n",
    "### I am a Management Consultant"
   ]
  },
  {
   "cell_type": "markdown",
   "metadata": {},
   "source": [
    "### _Businesses nowadays are seeking for ways to derive insights_\n",
    "### _to solve problems using the enormous amounts of data they collect. As a_\n",
    "### _management consultant, learning analytics will add one more_\n",
    "### _significant tool to help clients discover new ways to do things._\n",
    "### _Also being very curious helps me satisfy my hunger for \"Eureka\" moments._"
   ]
  },
  {
   "cell_type": "markdown",
   "metadata": {},
   "source": [
    "### The following code will print the result of 1+1"
   ]
  },
  {
   "cell_type": "code",
   "execution_count": 4,
   "metadata": {},
   "outputs": [
    {
     "name": "stdout",
     "output_type": "stream",
     "text": [
      "10\n"
     ]
    }
   ],
   "source": [
    "A=7\n",
    "B=3\n",
    "print(A+B)"
   ]
  },
  {
   "cell_type": "markdown",
   "metadata": {},
   "source": [
    "### Horizontal Rule\n",
    "---"
   ]
  },
  {
   "cell_type": "markdown",
   "metadata": {},
   "source": [
    "### Following parts of the notebook will have:\n",
    "1. Numbered List\n",
    "2. Bulleted List and\n",
    "3. A Table"
   ]
  },
  {
   "cell_type": "markdown",
   "metadata": {},
   "source": [
    "### Following is a bulleted list describing the sample garage sale data set in table form\n",
    "* 3 parameters - description, type & price\n",
    "* 3 Rows\n",
    "* Description describes the item\n",
    "* Type indicates if the item is furniture or appliance\n",
    "* Price gives the selling price of the item\n",
    "* Struck through item indicates sold"
   ]
  },
  {
   "cell_type": "markdown",
   "metadata": {},
   "source": [
    "### __Garage Sale__\n",
    "#|Description|Type|Price (INR)\n",
    ":---:|---|:---:|---:\n",
    "1|Table|Furniture|20000\n",
    "2|TV|Appliance|30000\n",
    "3|~~Chair~~|~~Furniture~~|~~4000~~"
   ]
  },
  {
   "cell_type": "code",
   "execution_count": null,
   "metadata": {},
   "outputs": [],
   "source": []
  }
 ],
 "metadata": {
  "kernelspec": {
   "display_name": "Python",
   "language": "python",
   "name": "conda-env-python-py"
  },
  "language_info": {
   "codemirror_mode": {
    "name": "ipython",
    "version": 3
   },
   "file_extension": ".py",
   "mimetype": "text/x-python",
   "name": "python",
   "nbconvert_exporter": "python",
   "pygments_lexer": "ipython3",
   "version": "3.7.12"
  }
 },
 "nbformat": 4,
 "nbformat_minor": 4
}
